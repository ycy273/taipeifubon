{
 "cells": [
  {
   "cell_type": "markdown",
   "metadata": {},
   "source": [
    "## 複習"
   ]
  },
  {
   "cell_type": "code",
   "execution_count": 1,
   "metadata": {},
   "outputs": [],
   "source": [
    "news = '''\n",
    "Coronavirus: Why did infections shoot up South Korea?\n",
    "South Korea has seen by far the highest numbers of coronavirus cases outside of China - within a week confirmed cases jumped from a few dozen to more than 800.\n",
    "\n",
    "The country had seemed well prepared and so the skyrocketing numbers have many asking how this happened - and whether a similar sudden outbreak could happen elsewhere.\n",
    "\n",
    "In South Korea, more than half of the Covid-19 cases have been linked to a religious sect and its critics say the group's secretive nature helped the virus go undetected.\n",
    "\n",
    "Why did the number of cases spike so suddenly?\n",
    "Authorities have identified the fringe Christian group Shincheonji Church as being at the heart of this outbreak.\n",
    "\n",
    "At their services in the south-eastern city of Daegu, members likely infected one another and then fanned out around the country, apparently undetected.\n",
    "\n",
    "South Korean health officials believe that a 61-year-old member of the sect who last week tested positive for the virus was among the first to be infected and is now at the centre of their investigation.\n",
    "\n",
    "The female patient initially refused to be transferred to a hospital to be tested and is known to have attended several church gatherings before testing positive.\n",
    "\n",
    "Any large gathering in a confined space she would have attended - like a church service - would have likely led to further infections, health officials say.\n",
    "\n",
    "What is coronavirus and what are the symptoms?\n",
    "\n",
    "The director of the South Korean Centre for Disease Control, Jung Eun-kyeong, suggested at a press briefing that \"there is a possibility that the characteristics of many people sitting close together in a very confined space and holding service for more than an hour\" would have led to \"a few who were exposed infecting many other infectees\".\n",
    "\n",
    "\"The virus preys on our social habits and interactions,\" infectious disease specialist Dr Leong Hoe Nam told the BBC.\n",
    "\n",
    "\"There may be practices within a church - like weeping or the belting of songs - that would encourage droplet transmission.\"\n",
    "\n",
    "Another cluster associated with the sect is at a hospital in Cheongdo where a large number of sect followers attended a funeral of the founder's brother over three days at the end of January.\n",
    "\n",
    "South Korea sees sharp rise in infections\n",
    "\n",
    "Source: Korea Centers for Disease Control and Prevention (KCDC)\n",
    "Church communities in other countries have also become virus outbreak clusters, though in much smaller numbers than in South Korea. All of them have suspended services and community gatherings to curb the spread.\n",
    "\n",
    "So why was it not detected earlier?\n",
    "Since the outbreak began in China in December, one of the key questions has been how early the virus can be detected - and whether it can be spread by people who don't yet show any symptoms, which would make it very hard to curb the spread.\n",
    "\n",
    "While Chinese health authorities have long warned people can be contagious before they show any symptoms, the World Health Organization has so far not confirmed that.\n",
    "\n",
    "South Korea was already on alert over the virus before the clusters were discovered. So if people presumably were careful and paid heightened attention to each others' health, does this then suggest that people without symptoms were able to spread the virus?\n",
    "\n",
    "\"It's a contentious question,\" says Dale Fisher, chair of the Global Outbreak Alert and Response Network at the WHO, told the BBC.\n",
    "\n",
    "\"What we can say is that it spreads early - whereas Sars (severe acute respiratory syndrome) for instance spread late in the illness.\"\n",
    "\n",
    "He explains that any infected people will have the virus on their throat before they show any symptoms. Yet without the symptoms - without coughing - they are also much less likely to spread the virus.\n",
    "\n",
    "Simply put, in order to spread the virus widely, an infected person would need to be coughing, i.e. coughing on their hands, on surfaces or on other people.\n",
    "\n",
    "\"At worst, the infectivity in an infected person without symptoms is much lower,\" Mr Fisher explains. \"And to be clear - the asymptomatic ones are not the big spreaders. It is only when you do have symptoms that you can spread it easily.\"\n",
    "\n",
    "Coronavirus: A visual guide to the outbreak\n",
    "How a misleading coronavirus map went global\n",
    "Watching loved ones die without care in Wuhan\n",
    "What do we know about Shincheonji?\n",
    "Officially called the Shincheonji Church of Jesus the Temple of the Tabernacle of the Testimony, the group was founded in the 1980s and claims to have around 250,000 followers.\n",
    "\n",
    "During services, the members are reportedly asked to sit and kneel very close to one another and continue to gather after the service is over.\n",
    "\n",
    "The fringe Christian mega church is accused by some critics of being a cult.\n",
    "\n",
    "\n",
    "It is common to hide your membership of Shincheonji Church as they are not a popular sect in South Korea, says the BBC's South Korea correspondent Laura Bicker.\n",
    "\n",
    "They also see sickness as a weakness. This combination means tracking those who've been infected has proven difficult. There are still some church-goers the health authorities have not managed to trace, despite the religious sect calling on its members to co-operate.\n",
    "\n",
    "The group itself though says it is fully cooperating with authorities, and that it has closed down its more than 1,000 churches and asked members to refrain from any outside activities.\n",
    "\n",
    "Yet there is a lot of anger and blame being directed at the sect.\n",
    "\n",
    "Hundreds of thousands have called for the dissolution of the Shincheonji Church of Jesus. Over 552,000 people have signed an online petition since Saturday after it was filed on the website of the presidential office of Cheong Wa-dae.\n",
    "\n",
    "\"Shincheonji contributed significantly to the sharp rise in the number of patients in Korea,\" Won Suk-choi of the division of infectious diseases at the Korea University College of Medicine, told the BBC, but he also warns that \"the situation Korea is currently experiencing can happen anywhere in the world\".\n",
    "\n",
    "How are South Koreans reacting?\n",
    "There is fear in South Korea, especially for elderly parents and relatives, according to our correspondent, who is in the worst-hit city of Daegu.\n",
    "\n",
    "Yet there is also resigned acceptance and many South Koreans believe the country was well prepared for this outbreak.\n",
    "\n",
    "Medics and hospitals have been on standby for weeks. There are briefings from the Centre for Disease Control twice a day where experts have been mapping the source of every infection.\n",
    "There are also text messages alerting residents to confirmed cases in their area telling you where they've been and when.\n",
    "\n",
    "Unlike Hong Kong or Singapore, there had been very little panic buying in South Korea until the beginning of the week.\n",
    "\n",
    "Yet when shops in Daegu announced they had new stock of masks arriving, thousands queued for hours in the hope of getting one.\n",
    "\n",
    "'''"
   ]
  },
  {
   "cell_type": "code",
   "execution_count": 17,
   "metadata": {},
   "outputs": [],
   "source": [
    "stopwords = [\"a\", \"about\", \"above\", \"above\", \"across\", \"after\", \"afterwards\", \"again\", \"against\", \"all\", \"almost\", \"alone\", \"along\", \"already\", \"also\",\"although\",\"always\",\"am\",\"among\", \"amongst\", \"amoungst\", \"amount\",  \"an\", \"and\", \"another\", \"any\",\"anyhow\",\"anyone\",\"anything\",\"anyway\", \"anywhere\", \"are\", \"around\", \"as\",  \"at\", \"back\",\"be\",\"became\", \"because\",\"become\",\"becomes\", \"becoming\", \"been\", \"before\", \"beforehand\", \"behind\", \"being\", \"below\", \"beside\", \"besides\", \"between\", \"beyond\", \"bill\", \"both\", \"bottom\",\"but\", \"by\", \"call\", \"can\", \"cannot\", \"cant\", \"co\", \"con\", \"could\", \"couldnt\", \"cry\", \"de\", \"describe\", \"detail\", \"do\", \"done\", \"down\", \"due\", \"during\", \"each\", \"eg\", \"eight\", \"either\", \"eleven\",\"else\", \"elsewhere\", \"empty\", \"enough\", \"etc\", \"even\", \"ever\", \"every\", \"everyone\", \"everything\", \"everywhere\", \"except\", \"few\", \"fifteen\", \"fify\", \"fill\", \"find\", \"fire\", \"first\", \"five\", \"for\", \"former\", \"formerly\", \"forty\", \"found\", \"four\", \"from\", \"front\", \"full\", \"further\", \"get\", \"give\", \"go\", \"had\", \"has\", \"hasnt\", \"have\", \"he\", \"hence\", \"her\", \"here\", \"hereafter\", \"hereby\", \"herein\", \"hereupon\", \"hers\", \"herself\", \"him\", \"himself\", \"his\", \"how\", \"however\", \"hundred\", \"ie\", \"if\", \"in\", \"inc\", \"indeed\", \"interest\", \"into\", \"is\", \"it\", \"its\", \"itself\", \"keep\", \"last\", \"latter\", \"latterly\", \"least\", \"less\", \"ltd\", \"made\", \"many\", \"may\", \"me\", \"meanwhile\", \"might\", \"mill\", \"mine\", \"more\", \"moreover\", \"most\", \"mostly\", \"move\", \"much\", \"must\", \"my\", \"myself\", \"name\", \"namely\", \"neither\", \"never\", \"nevertheless\", \"next\", \"nine\", \"no\", \"nobody\", \"none\", \"noone\", \"nor\", \"not\", \"nothing\", \"now\", \"nowhere\", \"of\", \"off\", \"often\", \"on\", \"once\", \"one\", \"only\", \"onto\", \"or\", \"other\", \"others\", \"otherwise\", \"our\", \"ours\", \"ourselves\", \"out\", \"over\", \"own\",\"part\", \"per\", \"perhaps\", \"please\", \"put\", \"rather\", \"re\", \"same\", \"see\", \"seem\", \"seemed\", \"seeming\", \"seems\", \"serious\", \"several\", \"she\", \"should\", \"show\", \"side\", \"since\", \"sincere\", \"six\", \"sixty\", \"so\", \"some\", \"somehow\", \"someone\", \"something\", \"sometime\", \"sometimes\", \"somewhere\", \"still\", \"such\", \"system\", \"take\", \"ten\", \"than\", \"that\", \"the\", \"their\", \"them\", \"themselves\", \"then\", \"thence\", \"there\", \"thereafter\", \"thereby\", \"therefore\", \"therein\", \"thereupon\", \"these\", \"they\", \"thick\", \"thin\", \"third\", \"this\", \"those\", \"though\", \"three\", \"through\", \"throughout\", \"thru\", \"thus\", \"to\", \"together\", \"too\", \"top\", \"toward\", \"towards\", \"twelve\", \"twenty\", \"two\", \"un\", \"under\", \"until\", \"up\", \"upon\", \"us\", \"very\", \"via\", \"was\", \"we\", \"well\", \"were\", \"what\", \"whatever\", \"when\", \"whence\", \"whenever\", \"where\", \"whereafter\", \"whereas\", \"whereby\", \"wherein\", \"whereupon\", \"wherever\", \"whether\", \"which\", \"while\", \"whither\", \"who\", \"whoever\", \"whole\", \"whom\", \"whose\", \"why\", \"will\", \"with\", \"within\", \"without\", \"would\", \"yet\", \"you\", \"your\", \"yours\", \"yourself\", \"yourselves\", \"the\"]"
   ]
  },
  {
   "cell_type": "code",
   "execution_count": 18,
   "metadata": {},
   "outputs": [],
   "source": [
    "words = news.lower().split()"
   ]
  },
  {
   "cell_type": "code",
   "execution_count": 19,
   "metadata": {},
   "outputs": [
    {
     "data": {
      "text/plain": [
       "list"
      ]
     },
     "execution_count": 19,
     "metadata": {},
     "output_type": "execute_result"
    }
   ],
   "source": [
    "type(words)"
   ]
  },
  {
   "cell_type": "code",
   "execution_count": 20,
   "metadata": {},
   "outputs": [],
   "source": [
    "dic = {}\n",
    "for w in words:\n",
    "    if w not in stopwords:\n",
    "        if w not in dic:\n",
    "            dic[w] = 1\n",
    "        else:\n",
    "            dic[w] = dic[w] + 1"
   ]
  },
  {
   "cell_type": "code",
   "execution_count": 21,
   "metadata": {},
   "outputs": [],
   "source": [
    "?sorted"
   ]
  },
  {
   "cell_type": "code",
   "execution_count": 22,
   "metadata": {},
   "outputs": [
    {
     "data": {
      "text/plain": [
       "3"
      ]
     },
     "execution_count": 22,
     "metadata": {},
     "output_type": "execute_result"
    }
   ],
   "source": [
    "a = ('why', 3)\n",
    "def getSecond(e):\n",
    "    return e[1]\n",
    "\n",
    "getSecond(a)\n",
    "\n",
    "getSecond2 = lambda e : e[1]\n",
    "getSecond2(a)"
   ]
  },
  {
   "cell_type": "code",
   "execution_count": 23,
   "metadata": {},
   "outputs": [],
   "source": [
    "swd = sorted(dic.items(), key = lambda e : e[1], reverse=True )"
   ]
  },
  {
   "cell_type": "code",
   "execution_count": 25,
   "metadata": {},
   "outputs": [
    {
     "data": {
      "text/plain": [
       "[('south', 14),\n",
       " ('-', 11),\n",
       " ('church', 9),\n",
       " ('korea', 8),\n",
       " ('virus', 8),\n",
       " ('people', 7),\n",
       " ('sect', 6),\n",
       " ('infected', 6),\n",
       " ('spread', 6),\n",
       " ('cases', 5),\n",
       " ('outbreak', 5),\n",
       " ('health', 5),\n",
       " ('shincheonji', 4),\n",
       " ('members', 4),\n",
       " ('disease', 4),\n",
       " ('symptoms', 4),\n",
       " ('numbers', 3),\n",
       " ('coronavirus', 3),\n",
       " ('confirmed', 3),\n",
       " ('korea,', 3)]"
      ]
     },
     "execution_count": 25,
     "metadata": {},
     "output_type": "execute_result"
    }
   ],
   "source": [
    "swd[0:20]"
   ]
  },
  {
   "cell_type": "markdown",
   "metadata": {},
   "source": [
    "## 套件與模組"
   ]
  },
  {
   "cell_type": "code",
   "execution_count": 26,
   "metadata": {},
   "outputs": [
    {
     "data": {
      "text/plain": [
       "60"
      ]
     },
     "execution_count": 26,
     "metadata": {},
     "output_type": "execute_result"
    }
   ],
   "source": [
    "a = [10,20,30]\n",
    "sum(a)"
   ]
  },
  {
   "cell_type": "code",
   "execution_count": 27,
   "metadata": {},
   "outputs": [],
   "source": [
    "sum = 50"
   ]
  },
  {
   "cell_type": "code",
   "execution_count": 28,
   "metadata": {},
   "outputs": [
    {
     "ename": "TypeError",
     "evalue": "'int' object is not callable",
     "output_type": "error",
     "traceback": [
      "\u001b[0;31m---------------------------------------------------------------------------\u001b[0m",
      "\u001b[0;31mTypeError\u001b[0m                                 Traceback (most recent call last)",
      "\u001b[0;32m<ipython-input-28-be023830df6e>\u001b[0m in \u001b[0;36m<module>\u001b[0;34m()\u001b[0m\n\u001b[0;32m----> 1\u001b[0;31m \u001b[0msum\u001b[0m\u001b[0;34m(\u001b[0m\u001b[0ma\u001b[0m\u001b[0;34m)\u001b[0m\u001b[0;34m\u001b[0m\u001b[0m\n\u001b[0m",
      "\u001b[0;31mTypeError\u001b[0m: 'int' object is not callable"
     ]
    }
   ],
   "source": [
    "sum(a)"
   ]
  },
  {
   "cell_type": "code",
   "execution_count": 29,
   "metadata": {},
   "outputs": [],
   "source": [
    "import test"
   ]
  },
  {
   "cell_type": "code",
   "execution_count": 30,
   "metadata": {},
   "outputs": [
    {
     "data": {
      "text/plain": [
       "1"
      ]
     },
     "execution_count": 30,
     "metadata": {},
     "output_type": "execute_result"
    }
   ],
   "source": [
    "test.var"
   ]
  },
  {
   "cell_type": "code",
   "execution_count": 31,
   "metadata": {},
   "outputs": [
    {
     "data": {
      "text/plain": [
       "'hello'"
      ]
     },
     "execution_count": 31,
     "metadata": {},
     "output_type": "execute_result"
    }
   ],
   "source": [
    "test.f('hello')"
   ]
  },
  {
   "cell_type": "code",
   "execution_count": 33,
   "metadata": {},
   "outputs": [
    {
     "data": {
      "text/plain": [
       "8"
      ]
     },
     "execution_count": 33,
     "metadata": {},
     "output_type": "execute_result"
    }
   ],
   "source": [
    "def f(a):\n",
    "    return a + 3\n",
    "f(5)"
   ]
  },
  {
   "cell_type": "code",
   "execution_count": 35,
   "metadata": {},
   "outputs": [
    {
     "data": {
      "text/plain": [
       "5"
      ]
     },
     "execution_count": 35,
     "metadata": {},
     "output_type": "execute_result"
    }
   ],
   "source": [
    "from test import f\n",
    "f(5)"
   ]
  },
  {
   "cell_type": "code",
   "execution_count": 36,
   "metadata": {},
   "outputs": [
    {
     "name": "stdout",
     "output_type": "stream",
     "text": [
      "David\n"
     ]
    }
   ],
   "source": [
    "from test import f as h\n",
    "print(h('David'))\n"
   ]
  },
  {
   "cell_type": "code",
   "execution_count": 37,
   "metadata": {},
   "outputs": [
    {
     "name": "stdout",
     "output_type": "stream",
     "text": [
      "1\n"
     ]
    }
   ],
   "source": [
    "from test import * \n",
    "print(var)"
   ]
  },
  {
   "cell_type": "code",
   "execution_count": 38,
   "metadata": {},
   "outputs": [
    {
     "data": {
      "text/plain": [
       "'hello'"
      ]
     },
     "execution_count": 38,
     "metadata": {},
     "output_type": "execute_result"
    }
   ],
   "source": [
    "f('hello')"
   ]
  },
  {
   "cell_type": "code",
   "execution_count": 39,
   "metadata": {},
   "outputs": [],
   "source": [
    "from child import test"
   ]
  },
  {
   "cell_type": "code",
   "execution_count": 40,
   "metadata": {},
   "outputs": [
    {
     "data": {
      "text/plain": [
       "1"
      ]
     },
     "execution_count": 40,
     "metadata": {},
     "output_type": "execute_result"
    }
   ],
   "source": [
    "test.var"
   ]
  },
  {
   "cell_type": "code",
   "execution_count": 41,
   "metadata": {},
   "outputs": [
    {
     "data": {
      "text/plain": [
       "'Hello'"
      ]
     },
     "execution_count": 41,
     "metadata": {},
     "output_type": "execute_result"
    }
   ],
   "source": [
    "test.f('Hello')"
   ]
  },
  {
   "cell_type": "markdown",
   "metadata": {},
   "source": [
    "## 第三方套件"
   ]
  },
  {
   "cell_type": "code",
   "execution_count": 52,
   "metadata": {},
   "outputs": [
    {
     "name": "stdout",
     "output_type": "stream",
     "text": [
      "Requirement already satisfied: PyAudio in /Users/davidchiu/.pyenv/versions/3.6.2/lib/python3.6/site-packages\n",
      "\u001b[33mYou are using pip version 9.0.1, however version 20.0.2 is available.\n",
      "You should consider upgrading via the 'pip install --upgrade pip' command.\u001b[0m\n"
     ]
    }
   ],
   "source": [
    "! pip install PyAudio"
   ]
  },
  {
   "cell_type": "code",
   "execution_count": 42,
   "metadata": {},
   "outputs": [
    {
     "name": "stdout",
     "output_type": "stream",
     "text": [
      "Requirement already satisfied: SpeechRecognition in /Users/davidchiu/.pyenv/versions/3.6.2/lib/python3.6/site-packages\n",
      "\u001b[33mYou are using pip version 9.0.1, however version 20.0.2 is available.\n",
      "You should consider upgrading via the 'pip install --upgrade pip' command.\u001b[0m\n"
     ]
    }
   ],
   "source": [
    "! pip install SpeechRecognition"
   ]
  },
  {
   "cell_type": "code",
   "execution_count": 44,
   "metadata": {},
   "outputs": [
    {
     "name": "stdout",
     "output_type": "stream",
     "text": [
      "大家好\n"
     ]
    }
   ],
   "source": [
    "import speech_recognition as sr\n",
    "\n",
    "r = sr.Recognizer()\n",
    "with sr.Microphone() as source:\n",
    "    audio = r.listen(source)\n",
    "    print(r.recognize_google(audio, language='zh_TW'))"
   ]
  },
  {
   "cell_type": "code",
   "execution_count": 46,
   "metadata": {},
   "outputs": [],
   "source": [
    "def listenTo():\n",
    "    r = sr.Recognizer()\n",
    "    with sr.Microphone() as source:\n",
    "        audio = r.listen(source)\n",
    "        return r.recognize_google(audio, language='zh_TW')"
   ]
  },
  {
   "cell_type": "code",
   "execution_count": 50,
   "metadata": {},
   "outputs": [
    {
     "data": {
      "text/plain": [
       "'我現在還不聰明，等我變聰明以後再告訴你'"
      ]
     },
     "execution_count": 50,
     "metadata": {},
     "output_type": "execute_result"
    }
   ],
   "source": [
    "qa = {\n",
    "    '我要保險': '以下是目前我們提供的保險服務',\n",
    "    '我要貸款': '以下是目前我們提供的貸款服務',\n",
    "    '我還有多少錢': '你的餘額剩下'\n",
    "}\n",
    "\n",
    "qa.get(listenTo(), '我現在還不聰明，等我變聰明以後再告訴你')"
   ]
  },
  {
   "cell_type": "code",
   "execution_count": 51,
   "metadata": {},
   "outputs": [
    {
     "name": "stdout",
     "output_type": "stream",
     "text": [
      "Requirement already satisfied: gTTS in /Users/davidchiu/.pyenv/versions/3.6.2/lib/python3.6/site-packages\n",
      "Requirement already satisfied: requests in /Users/davidchiu/.pyenv/versions/3.6.2/lib/python3.6/site-packages (from gTTS)\n",
      "Requirement already satisfied: six in /Users/davidchiu/.pyenv/versions/3.6.2/lib/python3.6/site-packages (from gTTS)\n",
      "Requirement already satisfied: bs4 in /Users/davidchiu/.pyenv/versions/3.6.2/lib/python3.6/site-packages (from gTTS)\n",
      "Requirement already satisfied: click in /Users/davidchiu/.pyenv/versions/3.6.2/lib/python3.6/site-packages (from gTTS)\n",
      "Requirement already satisfied: gtts-token in /Users/davidchiu/.pyenv/versions/3.6.2/lib/python3.6/site-packages (from gTTS)\n",
      "Requirement already satisfied: certifi>=2017.4.17 in /Users/davidchiu/.pyenv/versions/3.6.2/lib/python3.6/site-packages (from requests->gTTS)\n",
      "Requirement already satisfied: chardet<3.1.0,>=3.0.2 in /Users/davidchiu/.pyenv/versions/3.6.2/lib/python3.6/site-packages (from requests->gTTS)\n",
      "Requirement already satisfied: idna<2.9,>=2.5 in /Users/davidchiu/.pyenv/versions/3.6.2/lib/python3.6/site-packages (from requests->gTTS)\n",
      "Requirement already satisfied: urllib3!=1.25.0,!=1.25.1,<1.26,>=1.21.1 in /Users/davidchiu/.pyenv/versions/3.6.2/lib/python3.6/site-packages (from requests->gTTS)\n",
      "Requirement already satisfied: beautifulsoup4 in /Users/davidchiu/.pyenv/versions/3.6.2/lib/python3.6/site-packages (from bs4->gTTS)\n",
      "\u001b[33mYou are using pip version 9.0.1, however version 20.0.2 is available.\n",
      "You should consider upgrading via the 'pip install --upgrade pip' command.\u001b[0m\n"
     ]
    }
   ],
   "source": [
    "! pip install gTTS"
   ]
  },
  {
   "cell_type": "code",
   "execution_count": 53,
   "metadata": {},
   "outputs": [
    {
     "name": "stdout",
     "output_type": "stream",
     "text": [
      "Requirement already satisfied: pygame in /Users/davidchiu/.pyenv/versions/3.6.2/lib/python3.6/site-packages\n",
      "\u001b[33mYou are using pip version 9.0.1, however version 20.0.2 is available.\n",
      "You should consider upgrading via the 'pip install --upgrade pip' command.\u001b[0m\n"
     ]
    }
   ],
   "source": [
    "! pip install pygame"
   ]
  },
  {
   "cell_type": "code",
   "execution_count": 55,
   "metadata": {},
   "outputs": [],
   "source": [
    "from gtts import gTTS\n",
    "tts = gTTS('hello i love taipei fubon')\n",
    "tts.save('hello.mp3')"
   ]
  },
  {
   "cell_type": "code",
   "execution_count": 57,
   "metadata": {},
   "outputs": [],
   "source": [
    "from gtts import gTTS\n",
    "tts = gTTS('麻雀雖小 五臟俱全 中國雖大 武漢肺炎', lang='zh-TW')\n",
    "tts.save('hello.mp3')"
   ]
  },
  {
   "cell_type": "code",
   "execution_count": 58,
   "metadata": {},
   "outputs": [],
   "source": [
    "from gtts import gTTS\n",
    "from pygame import mixer\n",
    "mixer.init()\n",
    "\n",
    "import tempfile\n",
    "def speak(sentence):\n",
    "    with tempfile.NamedTemporaryFile(delete=True) as fp:\n",
    "        tts = gTTS(text=sentence, lang='zh-tw')\n",
    "        tts.save(\"{}.mp3\".format(fp.name))\n",
    "        mixer.music.load('{}.mp3'.format(fp.name))\n",
    "        mixer.music.play()\n"
   ]
  },
  {
   "cell_type": "code",
   "execution_count": 59,
   "metadata": {},
   "outputs": [],
   "source": [
    "speak('麻雀雖小 五臟俱全 中國雖大 武漢肺炎')"
   ]
  },
  {
   "cell_type": "code",
   "execution_count": 62,
   "metadata": {},
   "outputs": [],
   "source": [
    "qa = {\n",
    "    '我要保險': '以下是目前我們提供的保險服務',\n",
    "    '我要貸款': '以下是目前我們提供的貸款服務',\n",
    "    '我還有多少錢': '你的餘額剩下'\n",
    "}\n",
    "\n",
    "speak(qa.get(listenTo(), '我現在還不聰明，等我變聰明以後再告訴你'))"
   ]
  },
  {
   "cell_type": "code",
   "execution_count": null,
   "metadata": {},
   "outputs": [],
   "source": []
  }
 ],
 "metadata": {
  "kernelspec": {
   "display_name": "Python 3",
   "language": "python",
   "name": "python3"
  },
  "language_info": {
   "codemirror_mode": {
    "name": "ipython",
    "version": 3
   },
   "file_extension": ".py",
   "mimetype": "text/x-python",
   "name": "python",
   "nbconvert_exporter": "python",
   "pygments_lexer": "ipython3",
   "version": "3.6.2"
  }
 },
 "nbformat": 4,
 "nbformat_minor": 2
}
